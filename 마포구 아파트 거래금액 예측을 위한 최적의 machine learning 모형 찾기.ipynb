{
 "cells": [
  {
   "cell_type": "markdown",
   "id": "6bc7331a",
   "metadata": {},
   "source": [
    "# 1. 마포구 아파트 거래금액 예측을 위한 최적의 machine learning 모형 찾기\n",
    "- data: kaggle의 Korean Apartment Deal Data  \n",
    "(출처:https://www.kaggle.com/brainer3220/korean-real-estate-transaction-data)    \n",
    "\n",
    "- 프로젝트 목적: 본 분석에서는 개별 아파트의 특징(위치, 크기, 층수, 건축년도 등)이 아파트 거래금액에 영향을 미치는지 알아보고, 마포구 아파트 거래금액 예측을 위한 최적 머신러닝 모형을 찾고자 한다."
   ]
  },
  {
   "cell_type": "markdown",
   "id": "5a579000",
   "metadata": {},
   "source": [
    "분석에 필요한 라이브러리"
   ]
  },
  {
   "cell_type": "code",
   "execution_count": 1,
   "id": "00b142e0",
   "metadata": {},
   "outputs": [],
   "source": [
    "import numpy as np\n",
    "import pandas as pd\n",
    "from sklearn import datasets\n",
    "from sklearn import model_selection\n",
    "from sklearn.metrics import mean_absolute_error\n",
    "from sklearn.metrics import mean_squared_error\n",
    "from sklearn.metrics import accuracy_score\n",
    "from sklearn.metrics import f1_score\n",
    "from sklearn.metrics import roc_curve\n",
    "from sklearn.metrics import auc\n",
    "from sklearn.model_selection import train_test_split\n",
    "from sklearn.preprocessing import StandardScaler\n",
    "from sklearn.svm import SVR\n",
    "from sklearn.svm import SVC\n",
    "from sklearn.svm import LinearSVR\n",
    "from sklearn.svm import LinearSVC\n",
    "from sklearn.linear_model import LinearRegression\n",
    "from sklearn.tree import DecisionTreeRegressor\n",
    "from sklearn.ensemble import RandomForestRegressor\n",
    "from sklearn.pipeline import Pipeline\n",
    "from sklearn.preprocessing import StandardScaler\n",
    "import matplotlib.pyplot as plt\n",
    "import math\n"
   ]
  },
  {
   "cell_type": "markdown",
   "id": "790abe1e",
   "metadata": {},
   "source": [
    "## 1) 데이터 불러오기"
   ]
  },
  {
   "cell_type": "code",
   "execution_count": 2,
   "id": "ecebc1bb",
   "metadata": {},
   "outputs": [
    {
     "name": "stderr",
     "output_type": "stream",
     "text": [
      "C:\\Users\\82105\\anaconda3\\lib\\site-packages\\IPython\\core\\interactiveshell.py:3165: DtypeWarning: Columns (6) have mixed types.Specify dtype option on import or set low_memory=False.\n",
      "  has_raised = await self.run_ast_nodes(code_ast.body, cell_name,\n"
     ]
    },
    {
     "data": {
      "text/html": [
       "<div>\n",
       "<style scoped>\n",
       "    .dataframe tbody tr th:only-of-type {\n",
       "        vertical-align: middle;\n",
       "    }\n",
       "\n",
       "    .dataframe tbody tr th {\n",
       "        vertical-align: top;\n",
       "    }\n",
       "\n",
       "    .dataframe thead th {\n",
       "        text-align: right;\n",
       "    }\n",
       "</style>\n",
       "<table border=\"1\" class=\"dataframe\">\n",
       "  <thead>\n",
       "    <tr style=\"text-align: right;\">\n",
       "      <th></th>\n",
       "      <th>지역코드</th>\n",
       "      <th>법정동</th>\n",
       "      <th>거래일</th>\n",
       "      <th>아파트</th>\n",
       "      <th>지번</th>\n",
       "      <th>전용면적</th>\n",
       "      <th>층</th>\n",
       "      <th>건축년도</th>\n",
       "      <th>거래금액</th>\n",
       "    </tr>\n",
       "  </thead>\n",
       "  <tbody>\n",
       "    <tr>\n",
       "      <th>0</th>\n",
       "      <td>31110</td>\n",
       "      <td>학성동</td>\n",
       "      <td>5/30/2020 0:00</td>\n",
       "      <td>남운학성타운</td>\n",
       "      <td>379</td>\n",
       "      <td>135.5800</td>\n",
       "      <td>8</td>\n",
       "      <td>1991</td>\n",
       "      <td>26700</td>\n",
       "    </tr>\n",
       "    <tr>\n",
       "      <th>1</th>\n",
       "      <td>31110</td>\n",
       "      <td>남외동</td>\n",
       "      <td>1/3/2020 0:00</td>\n",
       "      <td>남외푸르지오1차</td>\n",
       "      <td>506-1</td>\n",
       "      <td>101.6000</td>\n",
       "      <td>2</td>\n",
       "      <td>2006</td>\n",
       "      <td>35500</td>\n",
       "    </tr>\n",
       "    <tr>\n",
       "      <th>2</th>\n",
       "      <td>31110</td>\n",
       "      <td>남외동</td>\n",
       "      <td>1/3/2020 0:00</td>\n",
       "      <td>에일린의뜰</td>\n",
       "      <td>500</td>\n",
       "      <td>84.9920</td>\n",
       "      <td>11</td>\n",
       "      <td>2007</td>\n",
       "      <td>36500</td>\n",
       "    </tr>\n",
       "    <tr>\n",
       "      <th>3</th>\n",
       "      <td>31110</td>\n",
       "      <td>남외동</td>\n",
       "      <td>1/3/2020 0:00</td>\n",
       "      <td>남외푸르지오1차</td>\n",
       "      <td>506-1</td>\n",
       "      <td>118.7060</td>\n",
       "      <td>8</td>\n",
       "      <td>2006</td>\n",
       "      <td>43000</td>\n",
       "    </tr>\n",
       "    <tr>\n",
       "      <th>4</th>\n",
       "      <td>31110</td>\n",
       "      <td>남외동</td>\n",
       "      <td>1/4/2020 0:00</td>\n",
       "      <td>남외푸르지오2차</td>\n",
       "      <td>501-1</td>\n",
       "      <td>84.9636</td>\n",
       "      <td>7</td>\n",
       "      <td>2007</td>\n",
       "      <td>38700</td>\n",
       "    </tr>\n",
       "    <tr>\n",
       "      <th>...</th>\n",
       "      <td>...</td>\n",
       "      <td>...</td>\n",
       "      <td>...</td>\n",
       "      <td>...</td>\n",
       "      <td>...</td>\n",
       "      <td>...</td>\n",
       "      <td>...</td>\n",
       "      <td>...</td>\n",
       "      <td>...</td>\n",
       "    </tr>\n",
       "    <tr>\n",
       "      <th>4315698</th>\n",
       "      <td>50110</td>\n",
       "      <td>애월읍 하귀1리</td>\n",
       "      <td>2021-04-07 00:00:00</td>\n",
       "      <td>제주하귀휴먼시아2단지</td>\n",
       "      <td>166-1</td>\n",
       "      <td>84.8400</td>\n",
       "      <td>7</td>\n",
       "      <td>2010</td>\n",
       "      <td>38500</td>\n",
       "    </tr>\n",
       "    <tr>\n",
       "      <th>4315699</th>\n",
       "      <td>50110</td>\n",
       "      <td>한림읍 한림리</td>\n",
       "      <td>2021-04-06 00:00:00</td>\n",
       "      <td>영신</td>\n",
       "      <td>1530-2</td>\n",
       "      <td>84.8700</td>\n",
       "      <td>4</td>\n",
       "      <td>1991</td>\n",
       "      <td>12000</td>\n",
       "    </tr>\n",
       "    <tr>\n",
       "      <th>4315700</th>\n",
       "      <td>50130</td>\n",
       "      <td>동홍동</td>\n",
       "      <td>2021-03-26 00:00:00</td>\n",
       "      <td>동호아트리움</td>\n",
       "      <td>2196</td>\n",
       "      <td>74.9261</td>\n",
       "      <td>3</td>\n",
       "      <td>2019</td>\n",
       "      <td>32500</td>\n",
       "    </tr>\n",
       "    <tr>\n",
       "      <th>4315701</th>\n",
       "      <td>50130</td>\n",
       "      <td>동홍동</td>\n",
       "      <td>2021-03-29 00:00:00</td>\n",
       "      <td>동홍동코아루</td>\n",
       "      <td>157</td>\n",
       "      <td>60.9375</td>\n",
       "      <td>3</td>\n",
       "      <td>2013</td>\n",
       "      <td>24100</td>\n",
       "    </tr>\n",
       "    <tr>\n",
       "      <th>4315702</th>\n",
       "      <td>50130</td>\n",
       "      <td>동홍동</td>\n",
       "      <td>2021-03-31 00:00:00</td>\n",
       "      <td>주공5차(동홍5차)</td>\n",
       "      <td>1674</td>\n",
       "      <td>39.7900</td>\n",
       "      <td>5</td>\n",
       "      <td>1999</td>\n",
       "      <td>12500</td>\n",
       "    </tr>\n",
       "  </tbody>\n",
       "</table>\n",
       "<p>4315703 rows × 9 columns</p>\n",
       "</div>"
      ],
      "text/plain": [
       "          지역코드       법정동                  거래일          아파트      지번      전용면적  \\\n",
       "0        31110       학성동       5/30/2020 0:00       남운학성타운     379  135.5800   \n",
       "1        31110       남외동        1/3/2020 0:00     남외푸르지오1차   506-1  101.6000   \n",
       "2        31110       남외동        1/3/2020 0:00        에일린의뜰     500   84.9920   \n",
       "3        31110       남외동        1/3/2020 0:00     남외푸르지오1차   506-1  118.7060   \n",
       "4        31110       남외동        1/4/2020 0:00     남외푸르지오2차   501-1   84.9636   \n",
       "...        ...       ...                  ...          ...     ...       ...   \n",
       "4315698  50110  애월읍 하귀1리  2021-04-07 00:00:00  제주하귀휴먼시아2단지   166-1   84.8400   \n",
       "4315699  50110   한림읍 한림리  2021-04-06 00:00:00           영신  1530-2   84.8700   \n",
       "4315700  50130       동홍동  2021-03-26 00:00:00       동호아트리움    2196   74.9261   \n",
       "4315701  50130       동홍동  2021-03-29 00:00:00       동홍동코아루     157   60.9375   \n",
       "4315702  50130       동홍동  2021-03-31 00:00:00   주공5차(동홍5차)    1674   39.7900   \n",
       "\n",
       "          층  건축년도   거래금액  \n",
       "0         8  1991  26700  \n",
       "1         2  2006  35500  \n",
       "2        11  2007  36500  \n",
       "3         8  2006  43000  \n",
       "4         7  2007  38700  \n",
       "...      ..   ...    ...  \n",
       "4315698   7  2010  38500  \n",
       "4315699   4  1991  12000  \n",
       "4315700   3  2019  32500  \n",
       "4315701   3  2013  24100  \n",
       "4315702   5  1999  12500  \n",
       "\n",
       "[4315703 rows x 9 columns]"
      ]
     },
     "execution_count": 2,
     "metadata": {},
     "output_type": "execute_result"
    }
   ],
   "source": [
    "df = 'C:/Users/82105/Downloads/Apart Deal.csv'\n",
    "df = pd.read_csv(df)\n",
    "df"
   ]
  },
  {
   "cell_type": "code",
   "execution_count": 3,
   "id": "3f098917",
   "metadata": {},
   "outputs": [
    {
     "name": "stderr",
     "output_type": "stream",
     "text": [
      "C:\\Users\\82105\\anaconda3\\lib\\site-packages\\IPython\\core\\interactiveshell.py:3165: DtypeWarning: Columns (6) have mixed types.Specify dtype option on import or set low_memory=False.\n",
      "  has_raised = await self.run_ast_nodes(code_ast.body, cell_name,\n"
     ]
    },
    {
     "data": {
      "text/html": [
       "<div>\n",
       "<style scoped>\n",
       "    .dataframe tbody tr th:only-of-type {\n",
       "        vertical-align: middle;\n",
       "    }\n",
       "\n",
       "    .dataframe tbody tr th {\n",
       "        vertical-align: top;\n",
       "    }\n",
       "\n",
       "    .dataframe thead th {\n",
       "        text-align: right;\n",
       "    }\n",
       "</style>\n",
       "<table border=\"1\" class=\"dataframe\">\n",
       "  <thead>\n",
       "    <tr style=\"text-align: right;\">\n",
       "      <th></th>\n",
       "      <th>dong</th>\n",
       "      <th>trading_day</th>\n",
       "      <th>apartment</th>\n",
       "      <th>lot_number</th>\n",
       "      <th>exclusive_area</th>\n",
       "      <th>floor</th>\n",
       "      <th>construction_year</th>\n",
       "      <th>transaction_amount</th>\n",
       "    </tr>\n",
       "  </thead>\n",
       "  <tbody>\n",
       "    <tr>\n",
       "      <th>0</th>\n",
       "      <td>학성동</td>\n",
       "      <td>5/30/2020 0:00</td>\n",
       "      <td>남운학성타운</td>\n",
       "      <td>379</td>\n",
       "      <td>135.5800</td>\n",
       "      <td>8</td>\n",
       "      <td>1991</td>\n",
       "      <td>26700</td>\n",
       "    </tr>\n",
       "    <tr>\n",
       "      <th>1</th>\n",
       "      <td>남외동</td>\n",
       "      <td>1/3/2020 0:00</td>\n",
       "      <td>남외푸르지오1차</td>\n",
       "      <td>506-1</td>\n",
       "      <td>101.6000</td>\n",
       "      <td>2</td>\n",
       "      <td>2006</td>\n",
       "      <td>35500</td>\n",
       "    </tr>\n",
       "    <tr>\n",
       "      <th>2</th>\n",
       "      <td>남외동</td>\n",
       "      <td>1/3/2020 0:00</td>\n",
       "      <td>에일린의뜰</td>\n",
       "      <td>500</td>\n",
       "      <td>84.9920</td>\n",
       "      <td>11</td>\n",
       "      <td>2007</td>\n",
       "      <td>36500</td>\n",
       "    </tr>\n",
       "    <tr>\n",
       "      <th>3</th>\n",
       "      <td>남외동</td>\n",
       "      <td>1/3/2020 0:00</td>\n",
       "      <td>남외푸르지오1차</td>\n",
       "      <td>506-1</td>\n",
       "      <td>118.7060</td>\n",
       "      <td>8</td>\n",
       "      <td>2006</td>\n",
       "      <td>43000</td>\n",
       "    </tr>\n",
       "    <tr>\n",
       "      <th>4</th>\n",
       "      <td>남외동</td>\n",
       "      <td>1/4/2020 0:00</td>\n",
       "      <td>남외푸르지오2차</td>\n",
       "      <td>501-1</td>\n",
       "      <td>84.9636</td>\n",
       "      <td>7</td>\n",
       "      <td>2007</td>\n",
       "      <td>38700</td>\n",
       "    </tr>\n",
       "  </tbody>\n",
       "</table>\n",
       "</div>"
      ],
      "text/plain": [
       "  dong     trading_day apartment lot_number  exclusive_area floor  \\\n",
       "0  학성동  5/30/2020 0:00    남운학성타운        379        135.5800     8   \n",
       "1  남외동   1/3/2020 0:00  남외푸르지오1차      506-1        101.6000     2   \n",
       "2  남외동   1/3/2020 0:00     에일린의뜰        500         84.9920    11   \n",
       "3  남외동   1/3/2020 0:00  남외푸르지오1차      506-1        118.7060     8   \n",
       "4  남외동   1/4/2020 0:00  남외푸르지오2차      501-1         84.9636     7   \n",
       "\n",
       "   construction_year  transaction_amount  \n",
       "0               1991               26700  \n",
       "1               2006               35500  \n",
       "2               2007               36500  \n",
       "3               2006               43000  \n",
       "4               2007               38700  "
      ]
     },
     "execution_count": 3,
     "metadata": {},
     "output_type": "execute_result"
    }
   ],
   "source": [
    "df = 'C:/Users/82105/Downloads/Apart Deal.csv'\n",
    "df = pd.read_csv(df)\n",
    "df = df.drop(['지역코드'], axis = 1)\n",
    "df = df.rename({'법정동':'dong', \n",
    "                '거래일':'trading_day', \n",
    "                '아파트':'apartment', \n",
    "                '지번':'lot_number', \n",
    "                '전용면적':'exclusive_area', \n",
    "                '층':'floor', \n",
    "                '건축년도':'construction_year', \n",
    "                '거래금액':'transaction_amount'},\n",
    "               axis='columns')\n",
    "df.head()"
   ]
  },
  {
   "cell_type": "markdown",
   "id": "88333c67",
   "metadata": {},
   "source": [
    "지역코드(area_code) 변수는 API를 불러올 때 사용한 코드로 데이터 분석에서는 의미없기 때문에 제거한 후 데이터를 불러온다."
   ]
  },
  {
   "cell_type": "markdown",
   "id": "0e2e6fcc",
   "metadata": {},
   "source": [
    "다음으로 본 분석에서는 서울시 마포구의 아파트 거래 금액을 예측하는 것이 목표이므로 전체 데이터 중 서울시 마포구의 법정동만 남기는 과정이다."
   ]
  },
  {
   "cell_type": "code",
   "execution_count": 4,
   "id": "e6a38530",
   "metadata": {},
   "outputs": [],
   "source": [
    "mapo = '용강동|노고산동|하중동|공덕동|신공덕동|도화동|마포동|망원동|합정동|신수동|현석동|당인동|성산동|상암동|연남동|서교동|동교동|염리동'"
   ]
  },
  {
   "cell_type": "code",
   "execution_count": 5,
   "id": "74eb9796",
   "metadata": {},
   "outputs": [
    {
     "data": {
      "text/html": [
       "<div>\n",
       "<style scoped>\n",
       "    .dataframe tbody tr th:only-of-type {\n",
       "        vertical-align: middle;\n",
       "    }\n",
       "\n",
       "    .dataframe tbody tr th {\n",
       "        vertical-align: top;\n",
       "    }\n",
       "\n",
       "    .dataframe thead th {\n",
       "        text-align: right;\n",
       "    }\n",
       "</style>\n",
       "<table border=\"1\" class=\"dataframe\">\n",
       "  <thead>\n",
       "    <tr style=\"text-align: right;\">\n",
       "      <th></th>\n",
       "      <th>dong</th>\n",
       "      <th>trading_day</th>\n",
       "      <th>apartment</th>\n",
       "      <th>lot_number</th>\n",
       "      <th>exclusive_area</th>\n",
       "      <th>floor</th>\n",
       "      <th>construction_year</th>\n",
       "      <th>transaction_amount</th>\n",
       "    </tr>\n",
       "  </thead>\n",
       "  <tbody>\n",
       "    <tr>\n",
       "      <th>73069</th>\n",
       "      <td>합정동</td>\n",
       "      <td>1/1/2020 0:00</td>\n",
       "      <td>주공</td>\n",
       "      <td>835</td>\n",
       "      <td>47.01</td>\n",
       "      <td>6</td>\n",
       "      <td>1989</td>\n",
       "      <td>13000</td>\n",
       "    </tr>\n",
       "    <tr>\n",
       "      <th>73070</th>\n",
       "      <td>합정동</td>\n",
       "      <td>1/3/2020 0:00</td>\n",
       "      <td>주공</td>\n",
       "      <td>835</td>\n",
       "      <td>39.69</td>\n",
       "      <td>1</td>\n",
       "      <td>1989</td>\n",
       "      <td>11500</td>\n",
       "    </tr>\n",
       "    <tr>\n",
       "      <th>73071</th>\n",
       "      <td>합정동</td>\n",
       "      <td>1/3/2020 0:00</td>\n",
       "      <td>주공</td>\n",
       "      <td>835</td>\n",
       "      <td>46.68</td>\n",
       "      <td>5</td>\n",
       "      <td>1989</td>\n",
       "      <td>12000</td>\n",
       "    </tr>\n",
       "    <tr>\n",
       "      <th>73072</th>\n",
       "      <td>합정동</td>\n",
       "      <td>1/3/2020 0:00</td>\n",
       "      <td>주공</td>\n",
       "      <td>835</td>\n",
       "      <td>39.69</td>\n",
       "      <td>5</td>\n",
       "      <td>1989</td>\n",
       "      <td>10500</td>\n",
       "    </tr>\n",
       "    <tr>\n",
       "      <th>73073</th>\n",
       "      <td>합정동</td>\n",
       "      <td>1/3/2020 0:00</td>\n",
       "      <td>주공</td>\n",
       "      <td>835</td>\n",
       "      <td>39.69</td>\n",
       "      <td>3</td>\n",
       "      <td>1989</td>\n",
       "      <td>10900</td>\n",
       "    </tr>\n",
       "  </tbody>\n",
       "</table>\n",
       "</div>"
      ],
      "text/plain": [
       "      dong    trading_day apartment lot_number  exclusive_area floor  \\\n",
       "73069  합정동  1/1/2020 0:00        주공        835           47.01     6   \n",
       "73070  합정동  1/3/2020 0:00        주공        835           39.69     1   \n",
       "73071  합정동  1/3/2020 0:00        주공        835           46.68     5   \n",
       "73072  합정동  1/3/2020 0:00        주공        835           39.69     5   \n",
       "73073  합정동  1/3/2020 0:00        주공        835           39.69     3   \n",
       "\n",
       "       construction_year  transaction_amount  \n",
       "73069               1989               13000  \n",
       "73070               1989               11500  \n",
       "73071               1989               12000  \n",
       "73072               1989               10500  \n",
       "73073               1989               10900  "
      ]
     },
     "execution_count": 5,
     "metadata": {},
     "output_type": "execute_result"
    }
   ],
   "source": [
    "df = df.loc[df['dong'].str.match(mapo)]\n",
    "df.head()\n"
   ]
  },
  {
   "cell_type": "code",
   "execution_count": 6,
   "id": "556025de",
   "metadata": {},
   "outputs": [
    {
     "data": {
      "text/plain": [
       "23425"
      ]
     },
     "execution_count": 6,
     "metadata": {},
     "output_type": "execute_result"
    }
   ],
   "source": [
    "len(df)"
   ]
  },
  {
   "cell_type": "markdown",
   "id": "48119d8d",
   "metadata": {},
   "source": [
    "23425개의 마포구 데이터만 추출해냈다."
   ]
  },
  {
   "cell_type": "markdown",
   "id": "f6cd1f1d",
   "metadata": {},
   "source": [
    "## 2) 데이터 훑어보기"
   ]
  },
  {
   "cell_type": "markdown",
   "id": "fab5b946",
   "metadata": {},
   "source": [
    "다음은 위에서 추출해낸 마포구 데이터를 살펴보았다."
   ]
  },
  {
   "cell_type": "code",
   "execution_count": 7,
   "id": "a9f739b5",
   "metadata": {},
   "outputs": [
    {
     "name": "stdout",
     "output_type": "stream",
     "text": [
      "<class 'pandas.core.frame.DataFrame'>\n",
      "Int64Index: 23425 entries, 73069 to 4315364\n",
      "Data columns (total 8 columns):\n",
      " #   Column              Non-Null Count  Dtype  \n",
      "---  ------              --------------  -----  \n",
      " 0   dong                23425 non-null  object \n",
      " 1   trading_day         23425 non-null  object \n",
      " 2   apartment           23425 non-null  object \n",
      " 3   lot_number          23425 non-null  object \n",
      " 4   exclusive_area      23425 non-null  float64\n",
      " 5   floor               23425 non-null  object \n",
      " 6   construction_year   23425 non-null  int64  \n",
      " 7   transaction_amount  23425 non-null  int64  \n",
      "dtypes: float64(1), int64(2), object(5)\n",
      "memory usage: 1.6+ MB\n"
     ]
    }
   ],
   "source": [
    "df.info()"
   ]
  },
  {
   "cell_type": "code",
   "execution_count": 8,
   "id": "1ec201fa",
   "metadata": {},
   "outputs": [
    {
     "data": {
      "text/plain": [
       "dong                  0\n",
       "trading_day           0\n",
       "apartment             0\n",
       "lot_number            0\n",
       "exclusive_area        0\n",
       "floor                 0\n",
       "construction_year     0\n",
       "transaction_amount    0\n",
       "dtype: int64"
      ]
     },
     "execution_count": 8,
     "metadata": {},
     "output_type": "execute_result"
    }
   ],
   "source": [
    "df.isnull().sum()"
   ]
  },
  {
   "cell_type": "markdown",
   "id": "9b157b9e",
   "metadata": {},
   "source": [
    "총 8개의 변수로 이루어져 있으며, 연속형 변수 3개와 범주형 변수 5개로 이루어져있다.  \n",
    "결측치는 존재하지 않는다."
   ]
  },
  {
   "cell_type": "markdown",
   "id": "9ac0ccb8",
   "metadata": {},
   "source": [
    "- 범주형 변수 살펴보기"
   ]
  },
  {
   "cell_type": "code",
   "execution_count": 9,
   "id": "69e25a3f",
   "metadata": {},
   "outputs": [
    {
     "data": {
      "text/plain": [
       "도화동     3832\n",
       "용강동     3647\n",
       "합정동     2287\n",
       "공덕동     2051\n",
       "성산동     1882\n",
       "상암동     1778\n",
       "신공덕동    1617\n",
       "하중동     1442\n",
       "망원동     1325\n",
       "신수동      837\n",
       "Name: dong, dtype: int64"
      ]
     },
     "execution_count": 9,
     "metadata": {},
     "output_type": "execute_result"
    }
   ],
   "source": [
    "df[\"dong\"].value_counts().head(10)"
   ]
  },
  {
   "cell_type": "markdown",
   "id": "51d577eb",
   "metadata": {},
   "source": [
    "도화동의 아파트 거래가 가장 많고 그 다음으로 용강동,합정동,공덕동 순이다."
   ]
  },
  {
   "cell_type": "code",
   "execution_count": 10,
   "id": "95fcaf22",
   "metadata": {},
   "outputs": [
    {
     "data": {
      "text/plain": [
       "주공          767\n",
       "협성휴포레 용황    618\n",
       "도화동현대       472\n",
       "참이슬마을       467\n",
       "우성          444\n",
       "성산시영(대우)    411\n",
       "현대홈타운       390\n",
       "참이슬         390\n",
       "Name: apartment, dtype: int64"
      ]
     },
     "execution_count": 10,
     "metadata": {},
     "output_type": "execute_result"
    }
   ],
   "source": [
    "df[\"apartment\"].value_counts().head(8)"
   ]
  },
  {
   "cell_type": "markdown",
   "id": "7d9f7d51",
   "metadata": {},
   "source": [
    "주공아파트의 거래가 가장 많고, 그리고 협성휴포레 용황, 도화동현대 순이다."
   ]
  },
  {
   "cell_type": "code",
   "execution_count": 11,
   "id": "d76b6d84",
   "metadata": {},
   "outputs": [
    {
     "data": {
      "text/html": [
       "<div>\n",
       "<style scoped>\n",
       "    .dataframe tbody tr th:only-of-type {\n",
       "        vertical-align: middle;\n",
       "    }\n",
       "\n",
       "    .dataframe tbody tr th {\n",
       "        vertical-align: top;\n",
       "    }\n",
       "\n",
       "    .dataframe thead th {\n",
       "        text-align: right;\n",
       "    }\n",
       "</style>\n",
       "<table border=\"1\" class=\"dataframe\">\n",
       "  <thead>\n",
       "    <tr style=\"text-align: right;\">\n",
       "      <th></th>\n",
       "      <th>count</th>\n",
       "      <th>mean</th>\n",
       "      <th>std</th>\n",
       "      <th>min</th>\n",
       "      <th>25%</th>\n",
       "      <th>50%</th>\n",
       "      <th>75%</th>\n",
       "      <th>max</th>\n",
       "    </tr>\n",
       "    <tr>\n",
       "      <th>dong</th>\n",
       "      <th></th>\n",
       "      <th></th>\n",
       "      <th></th>\n",
       "      <th></th>\n",
       "      <th></th>\n",
       "      <th></th>\n",
       "      <th></th>\n",
       "      <th></th>\n",
       "    </tr>\n",
       "  </thead>\n",
       "  <tbody>\n",
       "    <tr>\n",
       "      <th>공덕동</th>\n",
       "      <td>2051.0</td>\n",
       "      <td>76465.176012</td>\n",
       "      <td>30861.129384</td>\n",
       "      <td>16500.0</td>\n",
       "      <td>56750.0</td>\n",
       "      <td>69000.0</td>\n",
       "      <td>90000.0</td>\n",
       "      <td>310000.0</td>\n",
       "    </tr>\n",
       "    <tr>\n",
       "      <th>노고산동</th>\n",
       "      <td>150.0</td>\n",
       "      <td>27679.666667</td>\n",
       "      <td>3685.315030</td>\n",
       "      <td>16500.0</td>\n",
       "      <td>25925.0</td>\n",
       "      <td>27850.0</td>\n",
       "      <td>29500.0</td>\n",
       "      <td>49000.0</td>\n",
       "    </tr>\n",
       "    <tr>\n",
       "      <th>도화동</th>\n",
       "      <td>3832.0</td>\n",
       "      <td>43732.780532</td>\n",
       "      <td>28827.027450</td>\n",
       "      <td>4500.0</td>\n",
       "      <td>17675.0</td>\n",
       "      <td>41000.0</td>\n",
       "      <td>61900.0</td>\n",
       "      <td>178000.0</td>\n",
       "    </tr>\n",
       "    <tr>\n",
       "      <th>동교동</th>\n",
       "      <td>10.0</td>\n",
       "      <td>63545.000000</td>\n",
       "      <td>14810.590243</td>\n",
       "      <td>40000.0</td>\n",
       "      <td>50750.0</td>\n",
       "      <td>68750.0</td>\n",
       "      <td>72525.0</td>\n",
       "      <td>82000.0</td>\n",
       "    </tr>\n",
       "    <tr>\n",
       "      <th>마포동</th>\n",
       "      <td>311.0</td>\n",
       "      <td>44020.257235</td>\n",
       "      <td>20874.873071</td>\n",
       "      <td>8560.0</td>\n",
       "      <td>33125.0</td>\n",
       "      <td>43000.0</td>\n",
       "      <td>57750.0</td>\n",
       "      <td>105000.0</td>\n",
       "    </tr>\n",
       "    <tr>\n",
       "      <th>망원동</th>\n",
       "      <td>1325.0</td>\n",
       "      <td>48631.177358</td>\n",
       "      <td>15032.150644</td>\n",
       "      <td>13500.0</td>\n",
       "      <td>39000.0</td>\n",
       "      <td>47000.0</td>\n",
       "      <td>56500.0</td>\n",
       "      <td>143800.0</td>\n",
       "    </tr>\n",
       "    <tr>\n",
       "      <th>상암동</th>\n",
       "      <td>1778.0</td>\n",
       "      <td>72657.798650</td>\n",
       "      <td>16446.449758</td>\n",
       "      <td>25639.0</td>\n",
       "      <td>60000.0</td>\n",
       "      <td>70500.0</td>\n",
       "      <td>84000.0</td>\n",
       "      <td>134800.0</td>\n",
       "    </tr>\n",
       "    <tr>\n",
       "      <th>서교동</th>\n",
       "      <td>602.0</td>\n",
       "      <td>93117.971761</td>\n",
       "      <td>58518.605835</td>\n",
       "      <td>20300.0</td>\n",
       "      <td>36575.0</td>\n",
       "      <td>76000.0</td>\n",
       "      <td>147800.0</td>\n",
       "      <td>338000.0</td>\n",
       "    </tr>\n",
       "    <tr>\n",
       "      <th>성산동</th>\n",
       "      <td>1882.0</td>\n",
       "      <td>52314.399575</td>\n",
       "      <td>15490.336003</td>\n",
       "      <td>13000.0</td>\n",
       "      <td>41025.0</td>\n",
       "      <td>49500.0</td>\n",
       "      <td>59800.0</td>\n",
       "      <td>111000.0</td>\n",
       "    </tr>\n",
       "    <tr>\n",
       "      <th>신공덕동</th>\n",
       "      <td>1617.0</td>\n",
       "      <td>76706.513915</td>\n",
       "      <td>29207.123395</td>\n",
       "      <td>14500.0</td>\n",
       "      <td>56500.0</td>\n",
       "      <td>73600.0</td>\n",
       "      <td>94500.0</td>\n",
       "      <td>231600.0</td>\n",
       "    </tr>\n",
       "    <tr>\n",
       "      <th>신수동</th>\n",
       "      <td>837.0</td>\n",
       "      <td>64181.516129</td>\n",
       "      <td>22847.908338</td>\n",
       "      <td>15000.0</td>\n",
       "      <td>49800.0</td>\n",
       "      <td>58500.0</td>\n",
       "      <td>78500.0</td>\n",
       "      <td>235000.0</td>\n",
       "    </tr>\n",
       "    <tr>\n",
       "      <th>연남동</th>\n",
       "      <td>305.0</td>\n",
       "      <td>54266.163934</td>\n",
       "      <td>21212.132143</td>\n",
       "      <td>19500.0</td>\n",
       "      <td>39000.0</td>\n",
       "      <td>51000.0</td>\n",
       "      <td>66300.0</td>\n",
       "      <td>135000.0</td>\n",
       "    </tr>\n",
       "    <tr>\n",
       "      <th>염리동</th>\n",
       "      <td>779.0</td>\n",
       "      <td>67244.798460</td>\n",
       "      <td>32731.650133</td>\n",
       "      <td>18106.0</td>\n",
       "      <td>40925.0</td>\n",
       "      <td>61700.0</td>\n",
       "      <td>85375.0</td>\n",
       "      <td>220000.0</td>\n",
       "    </tr>\n",
       "    <tr>\n",
       "      <th>용강동</th>\n",
       "      <td>3647.0</td>\n",
       "      <td>29165.835481</td>\n",
       "      <td>30439.045149</td>\n",
       "      <td>1700.0</td>\n",
       "      <td>10200.0</td>\n",
       "      <td>22500.0</td>\n",
       "      <td>29344.0</td>\n",
       "      <td>200000.0</td>\n",
       "    </tr>\n",
       "    <tr>\n",
       "      <th>하중동</th>\n",
       "      <td>1442.0</td>\n",
       "      <td>35769.307212</td>\n",
       "      <td>40973.102240</td>\n",
       "      <td>4000.0</td>\n",
       "      <td>16800.0</td>\n",
       "      <td>21775.0</td>\n",
       "      <td>26800.0</td>\n",
       "      <td>220000.0</td>\n",
       "    </tr>\n",
       "    <tr>\n",
       "      <th>합정동</th>\n",
       "      <td>2287.0</td>\n",
       "      <td>21944.795365</td>\n",
       "      <td>23276.569746</td>\n",
       "      <td>4500.0</td>\n",
       "      <td>12500.0</td>\n",
       "      <td>15000.0</td>\n",
       "      <td>19850.0</td>\n",
       "      <td>193000.0</td>\n",
       "    </tr>\n",
       "    <tr>\n",
       "      <th>현석동</th>\n",
       "      <td>570.0</td>\n",
       "      <td>85992.843860</td>\n",
       "      <td>33973.605444</td>\n",
       "      <td>35000.0</td>\n",
       "      <td>59550.0</td>\n",
       "      <td>79500.0</td>\n",
       "      <td>108375.0</td>\n",
       "      <td>203000.0</td>\n",
       "    </tr>\n",
       "  </tbody>\n",
       "</table>\n",
       "</div>"
      ],
      "text/plain": [
       "       count          mean           std      min      25%      50%       75%  \\\n",
       "dong                                                                            \n",
       "공덕동   2051.0  76465.176012  30861.129384  16500.0  56750.0  69000.0   90000.0   \n",
       "노고산동   150.0  27679.666667   3685.315030  16500.0  25925.0  27850.0   29500.0   \n",
       "도화동   3832.0  43732.780532  28827.027450   4500.0  17675.0  41000.0   61900.0   \n",
       "동교동     10.0  63545.000000  14810.590243  40000.0  50750.0  68750.0   72525.0   \n",
       "마포동    311.0  44020.257235  20874.873071   8560.0  33125.0  43000.0   57750.0   \n",
       "망원동   1325.0  48631.177358  15032.150644  13500.0  39000.0  47000.0   56500.0   \n",
       "상암동   1778.0  72657.798650  16446.449758  25639.0  60000.0  70500.0   84000.0   \n",
       "서교동    602.0  93117.971761  58518.605835  20300.0  36575.0  76000.0  147800.0   \n",
       "성산동   1882.0  52314.399575  15490.336003  13000.0  41025.0  49500.0   59800.0   \n",
       "신공덕동  1617.0  76706.513915  29207.123395  14500.0  56500.0  73600.0   94500.0   \n",
       "신수동    837.0  64181.516129  22847.908338  15000.0  49800.0  58500.0   78500.0   \n",
       "연남동    305.0  54266.163934  21212.132143  19500.0  39000.0  51000.0   66300.0   \n",
       "염리동    779.0  67244.798460  32731.650133  18106.0  40925.0  61700.0   85375.0   \n",
       "용강동   3647.0  29165.835481  30439.045149   1700.0  10200.0  22500.0   29344.0   \n",
       "하중동   1442.0  35769.307212  40973.102240   4000.0  16800.0  21775.0   26800.0   \n",
       "합정동   2287.0  21944.795365  23276.569746   4500.0  12500.0  15000.0   19850.0   \n",
       "현석동    570.0  85992.843860  33973.605444  35000.0  59550.0  79500.0  108375.0   \n",
       "\n",
       "           max  \n",
       "dong            \n",
       "공덕동   310000.0  \n",
       "노고산동   49000.0  \n",
       "도화동   178000.0  \n",
       "동교동    82000.0  \n",
       "마포동   105000.0  \n",
       "망원동   143800.0  \n",
       "상암동   134800.0  \n",
       "서교동   338000.0  \n",
       "성산동   111000.0  \n",
       "신공덕동  231600.0  \n",
       "신수동   235000.0  \n",
       "연남동   135000.0  \n",
       "염리동   220000.0  \n",
       "용강동   200000.0  \n",
       "하중동   220000.0  \n",
       "합정동   193000.0  \n",
       "현석동   203000.0  "
      ]
     },
     "execution_count": 11,
     "metadata": {},
     "output_type": "execute_result"
    }
   ],
   "source": [
    "df.groupby(\"dong\")['transaction_amount'].describe()"
   ]
  },
  {
   "cell_type": "markdown",
   "id": "88e7e2b2",
   "metadata": {},
   "source": [
    "아파트가 위치한 동 별 거래금액을 확인한 결과, 같은 마포구에 위치한 아파트여도 거래건수와 거래금액의 편차가 큰 것을 확인할 수 있었다.<br>   따라서 동은 아파트 거래금액에 영향을 미치는 변수로 판단한다."
   ]
  },
  {
   "cell_type": "code",
   "execution_count": 12,
   "id": "1066a0fb",
   "metadata": {},
   "outputs": [
    {
     "data": {
      "text/html": [
       "<div>\n",
       "<style scoped>\n",
       "    .dataframe tbody tr th:only-of-type {\n",
       "        vertical-align: middle;\n",
       "    }\n",
       "\n",
       "    .dataframe tbody tr th {\n",
       "        vertical-align: top;\n",
       "    }\n",
       "\n",
       "    .dataframe thead th {\n",
       "        text-align: right;\n",
       "    }\n",
       "</style>\n",
       "<table border=\"1\" class=\"dataframe\">\n",
       "  <thead>\n",
       "    <tr style=\"text-align: right;\">\n",
       "      <th></th>\n",
       "      <th>count</th>\n",
       "      <th>mean</th>\n",
       "      <th>std</th>\n",
       "      <th>min</th>\n",
       "      <th>25%</th>\n",
       "      <th>50%</th>\n",
       "      <th>75%</th>\n",
       "      <th>max</th>\n",
       "    </tr>\n",
       "    <tr>\n",
       "      <th>floor</th>\n",
       "      <th></th>\n",
       "      <th></th>\n",
       "      <th></th>\n",
       "      <th></th>\n",
       "      <th></th>\n",
       "      <th></th>\n",
       "      <th></th>\n",
       "      <th></th>\n",
       "    </tr>\n",
       "  </thead>\n",
       "  <tbody>\n",
       "    <tr>\n",
       "      <th>4</th>\n",
       "      <td>1895.0</td>\n",
       "      <td>42227.544063</td>\n",
       "      <td>29907.286571</td>\n",
       "      <td>4400.0</td>\n",
       "      <td>15250.0</td>\n",
       "      <td>37700.0</td>\n",
       "      <td>62000.0</td>\n",
       "      <td>156000.0</td>\n",
       "    </tr>\n",
       "    <tr>\n",
       "      <th>5</th>\n",
       "      <td>1782.0</td>\n",
       "      <td>41835.752525</td>\n",
       "      <td>30945.860927</td>\n",
       "      <td>4000.0</td>\n",
       "      <td>14500.0</td>\n",
       "      <td>35750.0</td>\n",
       "      <td>61225.0</td>\n",
       "      <td>190000.0</td>\n",
       "    </tr>\n",
       "    <tr>\n",
       "      <th>3</th>\n",
       "      <td>1717.0</td>\n",
       "      <td>42137.851485</td>\n",
       "      <td>29743.456094</td>\n",
       "      <td>4300.0</td>\n",
       "      <td>16000.0</td>\n",
       "      <td>37500.0</td>\n",
       "      <td>59500.0</td>\n",
       "      <td>170000.0</td>\n",
       "    </tr>\n",
       "    <tr>\n",
       "      <th>2</th>\n",
       "      <td>1682.0</td>\n",
       "      <td>40956.056480</td>\n",
       "      <td>29267.428429</td>\n",
       "      <td>5000.0</td>\n",
       "      <td>14500.0</td>\n",
       "      <td>36400.0</td>\n",
       "      <td>59500.0</td>\n",
       "      <td>170000.0</td>\n",
       "    </tr>\n",
       "    <tr>\n",
       "      <th>6</th>\n",
       "      <td>1558.0</td>\n",
       "      <td>46778.892169</td>\n",
       "      <td>30109.733420</td>\n",
       "      <td>4000.0</td>\n",
       "      <td>20000.0</td>\n",
       "      <td>44000.0</td>\n",
       "      <td>65000.0</td>\n",
       "      <td>199000.0</td>\n",
       "    </tr>\n",
       "    <tr>\n",
       "      <th>1</th>\n",
       "      <td>1436.0</td>\n",
       "      <td>38294.199164</td>\n",
       "      <td>27362.482036</td>\n",
       "      <td>1700.0</td>\n",
       "      <td>14000.0</td>\n",
       "      <td>32100.0</td>\n",
       "      <td>57000.0</td>\n",
       "      <td>155000.0</td>\n",
       "    </tr>\n",
       "    <tr>\n",
       "      <th>7</th>\n",
       "      <td>1429.0</td>\n",
       "      <td>50847.526942</td>\n",
       "      <td>32601.619577</td>\n",
       "      <td>5200.0</td>\n",
       "      <td>24000.0</td>\n",
       "      <td>47800.0</td>\n",
       "      <td>69000.0</td>\n",
       "      <td>200000.0</td>\n",
       "    </tr>\n",
       "    <tr>\n",
       "      <th>8</th>\n",
       "      <td>1344.0</td>\n",
       "      <td>52609.113839</td>\n",
       "      <td>31321.486356</td>\n",
       "      <td>5300.0</td>\n",
       "      <td>26000.0</td>\n",
       "      <td>50000.0</td>\n",
       "      <td>72000.0</td>\n",
       "      <td>210000.0</td>\n",
       "    </tr>\n",
       "    <tr>\n",
       "      <th>9</th>\n",
       "      <td>1251.0</td>\n",
       "      <td>52813.147082</td>\n",
       "      <td>31027.102873</td>\n",
       "      <td>5000.0</td>\n",
       "      <td>26041.5</td>\n",
       "      <td>50800.0</td>\n",
       "      <td>73200.0</td>\n",
       "      <td>182500.0</td>\n",
       "    </tr>\n",
       "    <tr>\n",
       "      <th>11</th>\n",
       "      <td>1176.0</td>\n",
       "      <td>53225.016156</td>\n",
       "      <td>32170.096302</td>\n",
       "      <td>5300.0</td>\n",
       "      <td>26000.0</td>\n",
       "      <td>51500.0</td>\n",
       "      <td>72500.0</td>\n",
       "      <td>184700.0</td>\n",
       "    </tr>\n",
       "  </tbody>\n",
       "</table>\n",
       "</div>"
      ],
      "text/plain": [
       "        count          mean           std     min      25%      50%      75%  \\\n",
       "floor                                                                          \n",
       "4      1895.0  42227.544063  29907.286571  4400.0  15250.0  37700.0  62000.0   \n",
       "5      1782.0  41835.752525  30945.860927  4000.0  14500.0  35750.0  61225.0   \n",
       "3      1717.0  42137.851485  29743.456094  4300.0  16000.0  37500.0  59500.0   \n",
       "2      1682.0  40956.056480  29267.428429  5000.0  14500.0  36400.0  59500.0   \n",
       "6      1558.0  46778.892169  30109.733420  4000.0  20000.0  44000.0  65000.0   \n",
       "1      1436.0  38294.199164  27362.482036  1700.0  14000.0  32100.0  57000.0   \n",
       "7      1429.0  50847.526942  32601.619577  5200.0  24000.0  47800.0  69000.0   \n",
       "8      1344.0  52609.113839  31321.486356  5300.0  26000.0  50000.0  72000.0   \n",
       "9      1251.0  52813.147082  31027.102873  5000.0  26041.5  50800.0  73200.0   \n",
       "11     1176.0  53225.016156  32170.096302  5300.0  26000.0  51500.0  72500.0   \n",
       "\n",
       "            max  \n",
       "floor            \n",
       "4      156000.0  \n",
       "5      190000.0  \n",
       "3      170000.0  \n",
       "2      170000.0  \n",
       "6      199000.0  \n",
       "1      155000.0  \n",
       "7      200000.0  \n",
       "8      210000.0  \n",
       "9      182500.0  \n",
       "11     184700.0  "
      ]
     },
     "execution_count": 12,
     "metadata": {},
     "output_type": "execute_result"
    }
   ],
   "source": [
    "df.groupby(\"floor\")['transaction_amount'].describe().sort_values(by=\"count\", ascending=False).head(10)"
   ]
  },
  {
   "cell_type": "markdown",
   "id": "9118051d",
   "metadata": {},
   "source": [
    "1~11층까지의 거래가 가장 많고, 고층일수록 아파트 거래금액의 평균이 높아진다.   특히 1층의 거래금액이 가장 낮은 것을 확인할 수 있다. "
   ]
  },
  {
   "cell_type": "markdown",
   "id": "b7c0fb71",
   "metadata": {},
   "source": [
    "- 연속형 변수 살펴보기"
   ]
  },
  {
   "cell_type": "code",
   "execution_count": 13,
   "id": "e0b9ee4c",
   "metadata": {},
   "outputs": [
    {
     "data": {
      "text/html": [
       "<div>\n",
       "<style scoped>\n",
       "    .dataframe tbody tr th:only-of-type {\n",
       "        vertical-align: middle;\n",
       "    }\n",
       "\n",
       "    .dataframe tbody tr th {\n",
       "        vertical-align: top;\n",
       "    }\n",
       "\n",
       "    .dataframe thead th {\n",
       "        text-align: right;\n",
       "    }\n",
       "</style>\n",
       "<table border=\"1\" class=\"dataframe\">\n",
       "  <thead>\n",
       "    <tr style=\"text-align: right;\">\n",
       "      <th></th>\n",
       "      <th>exclusive_area</th>\n",
       "      <th>construction_year</th>\n",
       "      <th>transaction_amount</th>\n",
       "    </tr>\n",
       "  </thead>\n",
       "  <tbody>\n",
       "    <tr>\n",
       "      <th>count</th>\n",
       "      <td>23425.000000</td>\n",
       "      <td>23425.000000</td>\n",
       "      <td>23425.000000</td>\n",
       "    </tr>\n",
       "    <tr>\n",
       "      <th>mean</th>\n",
       "      <td>76.120076</td>\n",
       "      <td>2001.540704</td>\n",
       "      <td>51008.172337</td>\n",
       "    </tr>\n",
       "    <tr>\n",
       "      <th>std</th>\n",
       "      <td>26.367882</td>\n",
       "      <td>8.718125</td>\n",
       "      <td>35009.555819</td>\n",
       "    </tr>\n",
       "    <tr>\n",
       "      <th>min</th>\n",
       "      <td>14.030000</td>\n",
       "      <td>1970.000000</td>\n",
       "      <td>1700.000000</td>\n",
       "    </tr>\n",
       "    <tr>\n",
       "      <th>25%</th>\n",
       "      <td>59.520000</td>\n",
       "      <td>1996.000000</td>\n",
       "      <td>22100.000000</td>\n",
       "    </tr>\n",
       "    <tr>\n",
       "      <th>50%</th>\n",
       "      <td>79.137600</td>\n",
       "      <td>2003.000000</td>\n",
       "      <td>46500.000000</td>\n",
       "    </tr>\n",
       "    <tr>\n",
       "      <th>75%</th>\n",
       "      <td>84.950000</td>\n",
       "      <td>2007.000000</td>\n",
       "      <td>70400.000000</td>\n",
       "    </tr>\n",
       "    <tr>\n",
       "      <th>max</th>\n",
       "      <td>256.170000</td>\n",
       "      <td>2020.000000</td>\n",
       "      <td>338000.000000</td>\n",
       "    </tr>\n",
       "  </tbody>\n",
       "</table>\n",
       "</div>"
      ],
      "text/plain": [
       "       exclusive_area  construction_year  transaction_amount\n",
       "count    23425.000000       23425.000000        23425.000000\n",
       "mean        76.120076        2001.540704        51008.172337\n",
       "std         26.367882           8.718125        35009.555819\n",
       "min         14.030000        1970.000000         1700.000000\n",
       "25%         59.520000        1996.000000        22100.000000\n",
       "50%         79.137600        2003.000000        46500.000000\n",
       "75%         84.950000        2007.000000        70400.000000\n",
       "max        256.170000        2020.000000       338000.000000"
      ]
     },
     "execution_count": 13,
     "metadata": {},
     "output_type": "execute_result"
    }
   ],
   "source": [
    "df.describe()"
   ]
  },
  {
   "cell_type": "markdown",
   "id": "acd50a80",
   "metadata": {},
   "source": [
    "평균 전용 면적은 76제곱미터(약 23평)이고, 평균 준공년도는 2001년이다. 그리고 평균 거래 금액은 51008만원(약 5.1억원)이다."
   ]
  },
  {
   "cell_type": "code",
   "execution_count": 14,
   "id": "c067ffae",
   "metadata": {},
   "outputs": [
    {
     "data": {
      "text/plain": [
       "array([[<AxesSubplot:title={'center':'exclusive_area'}>,\n",
       "        <AxesSubplot:title={'center':'construction_year'}>],\n",
       "       [<AxesSubplot:title={'center':'transaction_amount'}>,\n",
       "        <AxesSubplot:>]], dtype=object)"
      ]
     },
     "execution_count": 14,
     "metadata": {},
     "output_type": "execute_result"
    },
    {
     "data": {
      "image/png": "[encoded data removed]",
      "text/plain": [
       "<Figure size 432x288 with 4 Axes>"
      ]
     },
     "metadata": {
      "needs_background": "light"
     },
     "output_type": "display_data"
    }
   ],
   "source": [
    "import matplotlib.pyplot as plt\n",
    "df.hist(bins=40)"
   ]
  },
  {
   "cell_type": "markdown",
   "id": "f06211d6",
   "metadata": {},
   "source": [
    "특성들의 scale이 서로 매우 다른 것을 확인할 수 있다."
   ]
  },
  {
   "cell_type": "markdown",
   "id": "53737b6e",
   "metadata": {},
   "source": [
    "- 상관관계 조사"
   ]
  },
  {
   "cell_type": "code",
   "execution_count": 15,
   "id": "a65649a6",
   "metadata": {},
   "outputs": [
    {
     "data": {
      "image/png": "[encoded data removed]",
      "text/plain": [
       "<Figure size 432x288 with 9 Axes>"
      ]
     },
     "metadata": {
      "needs_background": "light"
     },
     "output_type": "display_data"
    }
   ],
   "source": [
    "corr_matrix = df.corr()\n",
    "corr_matrix[\"transaction_amount\"].sort_values(ascending=False)\n",
    "\n",
    "from pandas.plotting import scatter_matrix\n",
    "attributes = ['transaction_amount', 'exclusive_area', 'construction_year']\n",
    "scatter_matrix(df[attributes])\n",
    "plt.show()"
   ]
  },
  {
   "cell_type": "markdown",
   "id": "d549aba7",
   "metadata": {},
   "source": [
    "전용면적이 클수록 거래금액이 증가하며, 신축 아파트 중 거래금액이 매우 높은 아파트들이 있는 것을 확인할 수 있다."
   ]
  },
  {
   "cell_type": "markdown",
   "id": "c86fb527",
   "metadata": {},
   "source": [
    "## 3) 데이터 정제"
   ]
  },
  {
   "cell_type": "code",
   "execution_count": 16,
   "id": "aea9b17d",
   "metadata": {},
   "outputs": [
    {
     "data": {
      "text/html": [
       "<div>\n",
       "<style scoped>\n",
       "    .dataframe tbody tr th:only-of-type {\n",
       "        vertical-align: middle;\n",
       "    }\n",
       "\n",
       "    .dataframe tbody tr th {\n",
       "        vertical-align: top;\n",
       "    }\n",
       "\n",
       "    .dataframe thead th {\n",
       "        text-align: right;\n",
       "    }\n",
       "</style>\n",
       "<table border=\"1\" class=\"dataframe\">\n",
       "  <thead>\n",
       "    <tr style=\"text-align: right;\">\n",
       "      <th></th>\n",
       "      <th>dong</th>\n",
       "      <th>lot_number</th>\n",
       "      <th>exclusive_area</th>\n",
       "      <th>floor</th>\n",
       "      <th>transaction_amount</th>\n",
       "      <th>trading_year</th>\n",
       "      <th>old</th>\n",
       "    </tr>\n",
       "  </thead>\n",
       "  <tbody>\n",
       "    <tr>\n",
       "      <th>73069</th>\n",
       "      <td>합정동</td>\n",
       "      <td>835</td>\n",
       "      <td>47.01</td>\n",
       "      <td>6</td>\n",
       "      <td>13000</td>\n",
       "      <td>2020</td>\n",
       "      <td>32</td>\n",
       "    </tr>\n",
       "    <tr>\n",
       "      <th>73070</th>\n",
       "      <td>합정동</td>\n",
       "      <td>835</td>\n",
       "      <td>39.69</td>\n",
       "      <td>1</td>\n",
       "      <td>11500</td>\n",
       "      <td>2020</td>\n",
       "      <td>32</td>\n",
       "    </tr>\n",
       "    <tr>\n",
       "      <th>73071</th>\n",
       "      <td>합정동</td>\n",
       "      <td>835</td>\n",
       "      <td>46.68</td>\n",
       "      <td>5</td>\n",
       "      <td>12000</td>\n",
       "      <td>2020</td>\n",
       "      <td>32</td>\n",
       "    </tr>\n",
       "    <tr>\n",
       "      <th>73072</th>\n",
       "      <td>합정동</td>\n",
       "      <td>835</td>\n",
       "      <td>39.69</td>\n",
       "      <td>5</td>\n",
       "      <td>10500</td>\n",
       "      <td>2020</td>\n",
       "      <td>32</td>\n",
       "    </tr>\n",
       "    <tr>\n",
       "      <th>73073</th>\n",
       "      <td>합정동</td>\n",
       "      <td>835</td>\n",
       "      <td>39.69</td>\n",
       "      <td>3</td>\n",
       "      <td>10900</td>\n",
       "      <td>2020</td>\n",
       "      <td>32</td>\n",
       "    </tr>\n",
       "  </tbody>\n",
       "</table>\n",
       "</div>"
      ],
      "text/plain": [
       "      dong lot_number  exclusive_area floor  transaction_amount  trading_year  \\\n",
       "73069  합정동        835           47.01     6               13000          2020   \n",
       "73070  합정동        835           39.69     1               11500          2020   \n",
       "73071  합정동        835           46.68     5               12000          2020   \n",
       "73072  합정동        835           39.69     5               10500          2020   \n",
       "73073  합정동        835           39.69     3               10900          2020   \n",
       "\n",
       "       old  \n",
       "73069   32  \n",
       "73070   32  \n",
       "73071   32  \n",
       "73072   32  \n",
       "73073   32  "
      ]
     },
     "execution_count": 16,
     "metadata": {},
     "output_type": "execute_result"
    }
   ],
   "source": [
    "df['trading_year'] = pd.DatetimeIndex(df['trading_day']).year\n",
    "df['old'] = 2021-df['construction_year']\n",
    "df = df.drop(['trading_day','apartment', 'construction_year'], axis = 1)\n",
    "df.head()"
   ]
  },
  {
   "cell_type": "markdown",
   "id": "530e0ee2",
   "metadata": {},
   "source": [
    "거래일자(trading_day)에서 연도만 추출해내 새로운 변수 trading_year를 생성한 후, 기존의 trading_day 변수는 삭제하였다.<br> \n",
    "또한, 2021년에서 건축 연도(construction_year)를 빼 몇 년 된 아파트인지 나타내는 변수 old를 생성한 후, 기존의 construction_year 변수는 삭제하였다.\n",
    "\n",
    "마지막으로 같은 아파트는 같은 지번을 가지고 있기 때문에, apartment 변수는 삭제하고 lot_number만 가지고 분석을 진행한다."
   ]
  },
  {
   "cell_type": "code",
   "execution_count": 17,
   "id": "0b8371d7",
   "metadata": {},
   "outputs": [],
   "source": [
    "df['floor'] = df['floor'].astype(float, errors = 'raise')\n",
    "df['transaction_amount'] = df['transaction_amount'].astype(float, errors = 'raise')\n",
    "df['trading_year'] = df['trading_year'].astype(float, errors = 'raise')\n",
    "df['old'] = df['old'].astype(float, errors = 'raise')\n",
    "df['lot_number']=df['lot_number'].astype(object)"
   ]
  },
  {
   "cell_type": "markdown",
   "id": "77861055",
   "metadata": {},
   "source": [
    "'floor','transaction_amount', 'trading_year', 'old'의 type을 float로 변환하였고, lot_number의 type을 object로 변환하였다."
   ]
  },
  {
   "cell_type": "markdown",
   "id": "f4355ac2",
   "metadata": {},
   "source": [
    "- OnehotEncoding"
   ]
  },
  {
   "cell_type": "code",
   "execution_count": 18,
   "id": "702b3212",
   "metadata": {},
   "outputs": [
    {
     "data": {
      "text/html": [
       "<div>\n",
       "<style scoped>\n",
       "    .dataframe tbody tr th:only-of-type {\n",
       "        vertical-align: middle;\n",
       "    }\n",
       "\n",
       "    .dataframe tbody tr th {\n",
       "        vertical-align: top;\n",
       "    }\n",
       "\n",
       "    .dataframe thead th {\n",
       "        text-align: right;\n",
       "    }\n",
       "</style>\n",
       "<table border=\"1\" class=\"dataframe\">\n",
       "  <thead>\n",
       "    <tr style=\"text-align: right;\">\n",
       "      <th></th>\n",
       "      <th>exclusive_area</th>\n",
       "      <th>floor</th>\n",
       "      <th>transaction_amount</th>\n",
       "      <th>trading_year</th>\n",
       "      <th>old</th>\n",
       "      <th>dong_노고산동</th>\n",
       "      <th>dong_도화동</th>\n",
       "      <th>dong_동교동</th>\n",
       "      <th>dong_마포동</th>\n",
       "      <th>dong_망원동</th>\n",
       "      <th>...</th>\n",
       "      <th>lot_number_965-8</th>\n",
       "      <th>lot_number_970-12</th>\n",
       "      <th>lot_number_970-5</th>\n",
       "      <th>lot_number_973-15</th>\n",
       "      <th>lot_number_975-12</th>\n",
       "      <th>lot_number_975-2</th>\n",
       "      <th>lot_number_982</th>\n",
       "      <th>lot_number_984</th>\n",
       "      <th>lot_number_BL-84-1</th>\n",
       "      <th>lot_number_산50-16</th>\n",
       "    </tr>\n",
       "  </thead>\n",
       "  <tbody>\n",
       "    <tr>\n",
       "      <th>73069</th>\n",
       "      <td>47.01</td>\n",
       "      <td>6.0</td>\n",
       "      <td>13000.0</td>\n",
       "      <td>2020.0</td>\n",
       "      <td>32.0</td>\n",
       "      <td>0</td>\n",
       "      <td>0</td>\n",
       "      <td>0</td>\n",
       "      <td>0</td>\n",
       "      <td>0</td>\n",
       "      <td>...</td>\n",
       "      <td>0</td>\n",
       "      <td>0</td>\n",
       "      <td>0</td>\n",
       "      <td>0</td>\n",
       "      <td>0</td>\n",
       "      <td>0</td>\n",
       "      <td>0</td>\n",
       "      <td>0</td>\n",
       "      <td>0</td>\n",
       "      <td>0</td>\n",
       "    </tr>\n",
       "    <tr>\n",
       "      <th>73070</th>\n",
       "      <td>39.69</td>\n",
       "      <td>1.0</td>\n",
       "      <td>11500.0</td>\n",
       "      <td>2020.0</td>\n",
       "      <td>32.0</td>\n",
       "      <td>0</td>\n",
       "      <td>0</td>\n",
       "      <td>0</td>\n",
       "      <td>0</td>\n",
       "      <td>0</td>\n",
       "      <td>...</td>\n",
       "      <td>0</td>\n",
       "      <td>0</td>\n",
       "      <td>0</td>\n",
       "      <td>0</td>\n",
       "      <td>0</td>\n",
       "      <td>0</td>\n",
       "      <td>0</td>\n",
       "      <td>0</td>\n",
       "      <td>0</td>\n",
       "      <td>0</td>\n",
       "    </tr>\n",
       "    <tr>\n",
       "      <th>73071</th>\n",
       "      <td>46.68</td>\n",
       "      <td>5.0</td>\n",
       "      <td>12000.0</td>\n",
       "      <td>2020.0</td>\n",
       "      <td>32.0</td>\n",
       "      <td>0</td>\n",
       "      <td>0</td>\n",
       "      <td>0</td>\n",
       "      <td>0</td>\n",
       "      <td>0</td>\n",
       "      <td>...</td>\n",
       "      <td>0</td>\n",
       "      <td>0</td>\n",
       "      <td>0</td>\n",
       "      <td>0</td>\n",
       "      <td>0</td>\n",
       "      <td>0</td>\n",
       "      <td>0</td>\n",
       "      <td>0</td>\n",
       "      <td>0</td>\n",
       "      <td>0</td>\n",
       "    </tr>\n",
       "    <tr>\n",
       "      <th>73072</th>\n",
       "      <td>39.69</td>\n",
       "      <td>5.0</td>\n",
       "      <td>10500.0</td>\n",
       "      <td>2020.0</td>\n",
       "      <td>32.0</td>\n",
       "      <td>0</td>\n",
       "      <td>0</td>\n",
       "      <td>0</td>\n",
       "      <td>0</td>\n",
       "      <td>0</td>\n",
       "      <td>...</td>\n",
       "      <td>0</td>\n",
       "      <td>0</td>\n",
       "      <td>0</td>\n",
       "      <td>0</td>\n",
       "      <td>0</td>\n",
       "      <td>0</td>\n",
       "      <td>0</td>\n",
       "      <td>0</td>\n",
       "      <td>0</td>\n",
       "      <td>0</td>\n",
       "    </tr>\n",
       "    <tr>\n",
       "      <th>73073</th>\n",
       "      <td>39.69</td>\n",
       "      <td>3.0</td>\n",
       "      <td>10900.0</td>\n",
       "      <td>2020.0</td>\n",
       "      <td>32.0</td>\n",
       "      <td>0</td>\n",
       "      <td>0</td>\n",
       "      <td>0</td>\n",
       "      <td>0</td>\n",
       "      <td>0</td>\n",
       "      <td>...</td>\n",
       "      <td>0</td>\n",
       "      <td>0</td>\n",
       "      <td>0</td>\n",
       "      <td>0</td>\n",
       "      <td>0</td>\n",
       "      <td>0</td>\n",
       "      <td>0</td>\n",
       "      <td>0</td>\n",
       "      <td>0</td>\n",
       "      <td>0</td>\n",
       "    </tr>\n",
       "  </tbody>\n",
       "</table>\n",
       "<p>5 rows × 412 columns</p>\n",
       "</div>"
      ],
      "text/plain": [
       "       exclusive_area  floor  transaction_amount  trading_year   old  \\\n",
       "73069           47.01    6.0             13000.0        2020.0  32.0   \n",
       "73070           39.69    1.0             11500.0        2020.0  32.0   \n",
       "73071           46.68    5.0             12000.0        2020.0  32.0   \n",
       "73072           39.69    5.0             10500.0        2020.0  32.0   \n",
       "73073           39.69    3.0             10900.0        2020.0  32.0   \n",
       "\n",
       "       dong_노고산동  dong_도화동  dong_동교동  dong_마포동  dong_망원동  ...  \\\n",
       "73069          0         0         0         0         0  ...   \n",
       "73070          0         0         0         0         0  ...   \n",
       "73071          0         0         0         0         0  ...   \n",
       "73072          0         0         0         0         0  ...   \n",
       "73073          0         0         0         0         0  ...   \n",
       "\n",
       "       lot_number_965-8  lot_number_970-12  lot_number_970-5  \\\n",
       "73069                 0                  0                 0   \n",
       "73070                 0                  0                 0   \n",
       "73071                 0                  0                 0   \n",
       "73072                 0                  0                 0   \n",
       "73073                 0                  0                 0   \n",
       "\n",
       "       lot_number_973-15  lot_number_975-12  lot_number_975-2  lot_number_982  \\\n",
       "73069                  0                  0                 0               0   \n",
       "73070                  0                  0                 0               0   \n",
       "73071                  0                  0                 0               0   \n",
       "73072                  0                  0                 0               0   \n",
       "73073                  0                  0                 0               0   \n",
       "\n",
       "       lot_number_984  lot_number_BL-84-1  lot_number_산50-16  \n",
       "73069               0                   0                  0  \n",
       "73070               0                   0                  0  \n",
       "73071               0                   0                  0  \n",
       "73072               0                   0                  0  \n",
       "73073               0                   0                  0  \n",
       "\n",
       "[5 rows x 412 columns]"
      ]
     },
     "execution_count": 18,
     "metadata": {},
     "output_type": "execute_result"
    }
   ],
   "source": [
    "df = pd.get_dummies(df,prefix=['dong', 'lot_number'], \n",
    "                    columns = ['dong','lot_number'], drop_first=True)\n",
    "df.head()"
   ]
  },
  {
   "cell_type": "markdown",
   "id": "041f26a9",
   "metadata": {},
   "source": [
    "분석에 들어가기 앞서 범주형 변수를 OnehotEncoding하였다. "
   ]
  },
  {
   "cell_type": "code",
   "execution_count": 19,
   "id": "9ab59d8c",
   "metadata": {},
   "outputs": [],
   "source": [
    "X = df.drop(['transaction_amount'], axis = 1)\n",
    "y = df['transaction_amount']"
   ]
  },
  {
   "cell_type": "markdown",
   "id": "9ffd5d27",
   "metadata": {},
   "source": [
    "OnehotEncoding 후, feature 변수는 X에, target변수는 y에 저장하였다."
   ]
  },
  {
   "cell_type": "code",
   "execution_count": 20,
   "id": "2f1bc41d",
   "metadata": {},
   "outputs": [
    {
     "data": {
      "text/plain": [
       "array([[-1.10402108, -0.4662789 ,  1.42841015, ..., -0.06580504,\n",
       "        -0.10490763, -0.01461139],\n",
       "       [-1.38163747, -1.29548111,  1.42841015, ..., -0.06580504,\n",
       "        -0.10490763, -0.01461139],\n",
       "       [-1.11653657, -0.63211934,  1.42841015, ..., -0.06580504,\n",
       "        -0.10490763, -0.01461139],\n",
       "       ...,\n",
       "       [-0.39177575,  1.02628508,  1.98240124, ..., -0.06580504,\n",
       "        -0.10490763, -0.01461139],\n",
       "       [-0.39177575,  1.02628508,  1.98240124, ..., -0.06580504,\n",
       "        -0.10490763, -0.01461139],\n",
       "       [-0.39177575, -1.29548111,  1.98240124, ..., -0.06580504,\n",
       "        -0.10490763, -0.01461139]])"
      ]
     },
     "execution_count": 20,
     "metadata": {},
     "output_type": "execute_result"
    }
   ],
   "source": [
    "from sklearn.preprocessing import StandardScaler\n",
    "scaler = StandardScaler()\n",
    "X= scaler.fit_transform(X)\n",
    "X"
   ]
  },
  {
   "cell_type": "markdown",
   "id": "a4890e5c",
   "metadata": {},
   "source": [
    "변수의 scale이 모두 다르기 때문에 StandardScaler를 이용해 표준화하였다. "
   ]
  },
  {
   "cell_type": "code",
   "execution_count": 21,
   "id": "2a461954",
   "metadata": {},
   "outputs": [
    {
     "data": {
      "text/plain": [
       "array([[-3.29544566,  2.1927101 , -0.2748585 , ..., -0.13861765,\n",
       "        -0.74009821, -0.77611003],\n",
       "       [-3.61303931,  2.34518499, -0.2807405 , ..., -0.16806194,\n",
       "        -0.72799882, -0.74947562],\n",
       "       [-3.34425733,  2.21563518, -0.27342821, ..., -0.14797948,\n",
       "        -0.73971956, -0.77382603],\n",
       "       ...,\n",
       "       [-0.04345629,  2.55098432,  1.57926108, ..., -0.21827206,\n",
       "         0.08571283, -0.39927983],\n",
       "       [-0.04345629,  2.55098432,  1.57926108, ..., -0.21827206,\n",
       "         0.08571283, -0.39927983],\n",
       "       [-0.66690196,  2.84109506,  1.60990511, ..., -0.36348685,\n",
       "         0.0826978 , -0.37970066]])"
      ]
     },
     "execution_count": 21,
     "metadata": {},
     "output_type": "execute_result"
    }
   ],
   "source": [
    "from sklearn.decomposition import PCA\n",
    "pca = PCA(n_components = 10)\n",
    "X = pca.fit_transform(X)\n",
    "X"
   ]
  },
  {
   "cell_type": "markdown",
   "id": "ef70c1db",
   "metadata": {},
   "source": [
    "그 후, feature가 너무 많기 때문에 pca를 이용해 차원을 10으로 줄였다."
   ]
  },
  {
   "cell_type": "code",
   "execution_count": 22,
   "id": "73aee410",
   "metadata": {},
   "outputs": [],
   "source": [
    "X_train, X_test, y_train, y_test = train_test_split(X, y, test_size=0.2, random_state=2020)"
   ]
  },
  {
   "cell_type": "markdown",
   "id": "56a15663",
   "metadata": {},
   "source": [
    "마지막으로 training set과 test set을 8:2 비율로 나눴다. "
   ]
  },
  {
   "cell_type": "markdown",
   "id": "547f5ea3",
   "metadata": {},
   "source": [
    "## 4) 모델 선택과 훈련"
   ]
  },
  {
   "cell_type": "markdown",
   "id": "0568031c",
   "metadata": {},
   "source": [
    "- linear regression\n",
    "- Regression Tree\n",
    "- RandomForest Regression\n",
    "- SVM Regression(RBF, linear)"
   ]
  },
  {
   "cell_type": "code",
   "execution_count": 23,
   "id": "745bf796",
   "metadata": {},
   "outputs": [],
   "source": [
    "def reg_model(name, model, X_train, y_train, X_test, y_test):\n",
    "    model.fit(X_train, y_train)\n",
    "    y_pred_test = model.predict(X_test)\n",
    "    y_pred_train = model.predict(X_train)\n",
    "    print ('MAE train', \n",
    "           mean_absolute_error(y_train, y_pred_train))\n",
    "    print ('RMSE train', \n",
    "           np.sqrt(mean_squared_error(y_train, y_pred_train)))\n",
    "    print ('MAE test', \n",
    "           mean_absolute_error(y_test, y_pred_test))\n",
    "    print ('RMSE test', \n",
    "           np.sqrt(mean_squared_error(y_test, y_pred_test)))\n",
    "    return name , np.array(y_test), y_pred_test"
   ]
  },
  {
   "cell_type": "markdown",
   "id": "485bd077",
   "metadata": {},
   "source": [
    "적용할 회귀 모델에 대해 train set, test set 각각의 MAE 와 RMSE를 한번에 보여주기 위해 새로운 함수 reg_model 을 만들어두었다. \n"
   ]
  },
  {
   "cell_type": "code",
   "execution_count": 24,
   "id": "a14dca39",
   "metadata": {},
   "outputs": [],
   "source": [
    "lin_reg = LinearRegression()\n",
    "tree_reg = DecisionTreeRegressor(random_state=2021)\n",
    "rf_reg = RandomForestRegressor(random_state=2021)\n",
    "svr_rbf = SVR(kernel='rbf', gamma=0.1)\n",
    "svr_linear = LinearSVR()\n",
    "results = []\n",
    "def run_model():\n",
    "    print ('-----------')\n",
    "    print ('Linear Regression')\n",
    "    print ('-----------')\n",
    "    results.append(reg_model('Linear Regression', lin_reg, X_train, y_train, X_test, y_test))\n",
    "    print ('-----------')\n",
    "    print ('DecisionTree Regressor')\n",
    "    print ('-----------')\n",
    "    results.append(reg_model('DecisionTree Regressor', tree_reg, X_train, y_train, X_test, y_test))\n",
    "    print ('-----------')\n",
    "    print ('Randomforest Regressor')\n",
    "    print ('-----------')\n",
    "    results.append(reg_model('Randomforest Regressor', rf_reg, X_train, y_train, X_test, y_test))\n",
    "    print ('-----------')\n",
    "    print ('SVR - RBF')\n",
    "    print ('-----------')\n",
    "    results.append(reg_model('SVR - RBF', svr_rbf, X_train, y_train, X_test, y_test))\n",
    "    print ('-----------')\n",
    "    print ('SVR - linear')\n",
    "    print ('-----------')\n",
    "    results.append(reg_model('SVR - linear', svr_linear, X_train, y_train, X_test, y_test))\n"
   ]
  },
  {
   "cell_type": "code",
   "execution_count": 25,
   "id": "cedcb583",
   "metadata": {},
   "outputs": [
    {
     "name": "stdout",
     "output_type": "stream",
     "text": [
      "-----------\n",
      "Linear Regression\n",
      "-----------\n",
      "MAE train 19453.164403965315\n",
      "RMSE train 25962.014858652794\n",
      "MAE test 19337.583236349466\n",
      "RMSE test 25878.520874892285\n",
      "-----------\n",
      "DecisionTree Regressor\n",
      "-----------\n",
      "MAE train 643.0668385238865\n",
      "RMSE train 1635.8343407169152\n",
      "MAE test 4182.222196229577\n",
      "RMSE test 9252.231702007117\n",
      "-----------\n",
      "Randomforest Regressor\n",
      "-----------\n",
      "MAE train 1662.7440253300729\n",
      "RMSE train 3011.8905374626484\n",
      "MAE test 3415.928985931004\n",
      "RMSE test 6390.186588886438\n",
      "-----------\n",
      "SVR - RBF\n",
      "-----------\n",
      "MAE train 26875.983129813394\n",
      "RMSE train 34898.51777448477\n",
      "MAE test 26770.934084343717\n",
      "RMSE test 34877.932121133046\n",
      "-----------\n",
      "SVR - linear\n",
      "-----------\n",
      "MAE train 34573.288534435036\n",
      "RMSE train 46821.52956427147\n",
      "MAE test 34362.64216888763\n",
      "RMSE test 46643.76590702854\n"
     ]
    }
   ],
   "source": [
    "run_model()"
   ]
  },
  {
   "cell_type": "markdown",
   "id": "efe541ce",
   "metadata": {},
   "source": [
    "regression tree의 RMSE와 random forest regression의 RMSE는 linear regression RMSE와 너무 큰 차이가 난다. <br>\n",
    "또한, training set의 RMSE와 test set의 RMSE의 차이가 크게 난다.\n",
    "\n",
    "따라서 overfitting이 의심되므로 모델 세부 튜닝을 진행한다."
   ]
  },
  {
   "cell_type": "markdown",
   "id": "e29c1353",
   "metadata": {},
   "source": [
    "### 모델 세부 튜닝- k-fold CV"
   ]
  },
  {
   "cell_type": "markdown",
   "id": "39c8391a",
   "metadata": {},
   "source": [
    "- linear regression 결과"
   ]
  },
  {
   "cell_type": "code",
   "execution_count": 26,
   "id": "4a12ea46",
   "metadata": {},
   "outputs": [
    {
     "name": "stdout",
     "output_type": "stream",
     "text": [
      "score: [24343.01917623 26319.30385625 25811.15371182 25500.49600432\n",
      " 25076.89640125 26871.99740845 24217.61260688 26236.10436006\n",
      " 25291.29364927 29409.46180184]\n",
      "mean: 25907.733897636488\n",
      "sd: 1414.90005021228\n"
     ]
    }
   ],
   "source": [
    "from sklearn.model_selection import cross_val_score\n",
    "\n",
    "scores = cross_val_score(lin_reg, X_test, y_test, \n",
    "                         scoring=\"neg_mean_squared_error\", cv=10)\n",
    "lin_rmse_scores = np.sqrt(-scores)\n",
    "\n",
    "def display_scores(scores):\n",
    "    print(\"score:\", scores)\n",
    "    print(\"mean:\", scores.mean())\n",
    "    print(\"sd:\", scores.std())\n",
    "\n",
    "display_scores(lin_rmse_scores)"
   ]
  },
  {
   "cell_type": "markdown",
   "id": "ce4850f3",
   "metadata": {},
   "source": [
    "linear regression을 10-fold CV한 결과 RMSE는 25907.733이다."
   ]
  },
  {
   "cell_type": "markdown",
   "id": "37af9b92",
   "metadata": {},
   "source": [
    "- regression tree 결과"
   ]
  },
  {
   "cell_type": "code",
   "execution_count": 27,
   "id": "521f9c4a",
   "metadata": {},
   "outputs": [
    {
     "name": "stdout",
     "output_type": "stream",
     "text": [
      "score: [17225.38367553 12635.03090988 14693.52802514 14521.65616733\n",
      " 15819.57357818 13769.24934321 10987.12132204 16715.57897131\n",
      " 18248.87225171 12647.30764636]\n",
      "mean: 14726.330189069748\n",
      "sd: 2178.1272754111983\n"
     ]
    }
   ],
   "source": [
    "from sklearn.model_selection import cross_val_score\n",
    "\n",
    "scores = cross_val_score(tree_reg, X_test, y_test, \n",
    "                         scoring=\"neg_mean_squared_error\", cv=10)\n",
    "tree_rmse_scores = np.sqrt(-scores)\n",
    "\n",
    "def display_scores(scores):\n",
    "    print(\"score:\", scores)\n",
    "    print(\"mean:\", scores.mean())\n",
    "    print(\"sd:\", scores.std())\n",
    "\n",
    "display_scores(tree_rmse_scores)"
   ]
  },
  {
   "cell_type": "markdown",
   "id": "a14dca7c",
   "metadata": {},
   "source": [
    "regression tree를 10-fold CV한 결과 RMSE는 14726.33으로 아까에 비해 RMSE 값이 많이 커진걸로 보아 CV 전 모형은 overfitting 된 것으로 판단하였다."
   ]
  },
  {
   "cell_type": "markdown",
   "id": "e3f1c6d5",
   "metadata": {},
   "source": [
    "- random forest 결과"
   ]
  },
  {
   "cell_type": "code",
   "execution_count": 28,
   "id": "eed77716",
   "metadata": {},
   "outputs": [
    {
     "name": "stdout",
     "output_type": "stream",
     "text": [
      "score: [ 9901.38615154 10024.69720829  9709.08532979  8825.78518912\n",
      "  8981.10667726  9074.4290471   8379.79012468 10693.48091827\n",
      " 10647.27950048 10571.04161742]\n",
      "mean: 9680.808176394974\n",
      "sd: 787.4511098929544\n"
     ]
    }
   ],
   "source": [
    "from sklearn.model_selection import cross_val_score\n",
    "\n",
    "scores = cross_val_score(rf_reg, X_test, y_test, \n",
    "                         scoring=\"neg_mean_squared_error\", cv=10)\n",
    "forest_rmse_scores = np.sqrt(-scores)\n",
    "\n",
    "def display_scores(scores):\n",
    "    print(\"score:\", scores)\n",
    "    print(\"mean:\", scores.mean())\n",
    "    print(\"sd:\", scores.std())\n",
    "\n",
    "display_scores(forest_rmse_scores)"
   ]
  },
  {
   "cell_type": "markdown",
   "id": "d1d535ba",
   "metadata": {},
   "source": [
    "random forest regression을 10-fold CV한 결과 RMSE는 9680.8081로 아까에 비해 RMSE 값이 많이 커진걸로 보아 CV 전 모형은 overfitting 된 것으로 판단하였다."
   ]
  },
  {
   "cell_type": "markdown",
   "id": "ed319db4",
   "metadata": {},
   "source": [
    "- SVM-RBF 결과"
   ]
  },
  {
   "cell_type": "code",
   "execution_count": 29,
   "id": "006c9ea2",
   "metadata": {},
   "outputs": [
    {
     "name": "stdout",
     "output_type": "stream",
     "text": [
      "score: [31967.83090384 36428.61055526 33281.37054619 33748.10349895\n",
      " 33232.70948795 35386.77395378 35270.26210513 37222.65016217\n",
      " 35308.85643874 39191.6208531 ]\n",
      "mean: 35103.878850511166\n",
      "sd: 2039.588299371441\n"
     ]
    }
   ],
   "source": [
    "from sklearn.model_selection import cross_val_score\n",
    "\n",
    "scores = cross_val_score(svr_rbf, X_test, y_test, \n",
    "                         scoring=\"neg_mean_squared_error\", cv=10)\n",
    "svr_rbf_rmse_scores = np.sqrt(-scores)\n",
    "\n",
    "def display_scores(scores):\n",
    "    print(\"score:\", scores)\n",
    "    print(\"mean:\", scores.mean())\n",
    "    print(\"sd:\", scores.std())\n",
    "\n",
    "display_scores(svr_rbf_rmse_scores)"
   ]
  },
  {
   "cell_type": "code",
   "execution_count": 30,
   "id": "33d61f3d",
   "metadata": {},
   "outputs": [
    {
     "name": "stdout",
     "output_type": "stream",
     "text": [
      "score: [54946.69514193 60403.26743803 56846.45127905 55346.92167161\n",
      " 55728.12036087 59977.76525425 57634.01867059 59917.20826318\n",
      " 58739.29954428 63255.52588343]\n",
      "mean: 58279.527350722485\n",
      "sd: 2524.60387558712\n"
     ]
    }
   ],
   "source": [
    "from sklearn.model_selection import cross_val_score\n",
    "\n",
    "scores = cross_val_score(svr_linear, X_test, y_test, \n",
    "                         scoring=\"neg_mean_squared_error\", cv=10)\n",
    "svr_linear_rmse_scores = np.sqrt(-scores)\n",
    "\n",
    "def display_scores(scores):\n",
    "    print(\"score:\", scores)\n",
    "    print(\"mean:\", scores.mean())\n",
    "    print(\"sd:\", scores.std())\n",
    "\n",
    "display_scores(svr_linear_rmse_scores)"
   ]
  },
  {
   "cell_type": "markdown",
   "id": "72f949d2",
   "metadata": {},
   "source": [
    "마지막으로 SVM을 10-fold CV한 결과 linear regression에 비해 RMSE가 너무 커 성능이 좋지 않은 모형으로 판단하였다."
   ]
  },
  {
   "cell_type": "markdown",
   "id": "f2d3535f",
   "metadata": {},
   "source": [
    "CV 결과 random forest 모형이 가장 좋다."
   ]
  },
  {
   "cell_type": "markdown",
   "id": "94bc9bc9",
   "metadata": {},
   "source": [
    "### 모델 세부 튜닝 - 그리드 탐색"
   ]
  },
  {
   "cell_type": "markdown",
   "id": "8298b1a7",
   "metadata": {},
   "source": [
    "CV 결과 random forest regression 모형의 성능이 가장 좋기 때문에, 그리드 탐색을 통해 best parameter를 찾아보고자 한다. "
   ]
  },
  {
   "cell_type": "code",
   "execution_count": 38,
   "id": "4d99079d",
   "metadata": {},
   "outputs": [],
   "source": [
    "from sklearn.model_selection import GridSearchCV\n",
    "\n",
    "param_grid = [\n",
    "    {'n_estimators': [3, 10, 30], 'max_features': [2,4,6]},\n",
    "    {'bootstrap': [False], 'n_estimators': [3, 10, 30], 'max_features': [2,4,6]}]\n",
    "\n",
    "forest_reg = RandomForestRegressor(random_state=2021)\n"
   ]
  },
  {
   "cell_type": "code",
   "execution_count": 39,
   "id": "6d82f95d",
   "metadata": {},
   "outputs": [
    {
     "data": {
      "text/plain": [
       "GridSearchCV(cv=5, estimator=RandomForestRegressor(random_state=2021),\n",
       "             param_grid=[{'max_features': [2, 4, 6],\n",
       "                          'n_estimators': [3, 10, 30]},\n",
       "                         {'bootstrap': [False], 'max_features': [2, 4, 6],\n",
       "                          'n_estimators': [3, 10, 30]}],\n",
       "             return_train_score=True, scoring='neg_mean_squared_error')"
      ]
     },
     "execution_count": 39,
     "metadata": {},
     "output_type": "execute_result"
    }
   ],
   "source": [
    "grid_search = GridSearchCV(forest_reg, param_grid, cv=5, \n",
    "                           scoring='neg_mean_squared_error', return_train_score=True)\n",
    "grid_search.fit(X_train, y_train)"
   ]
  },
  {
   "cell_type": "code",
   "execution_count": 40,
   "id": "08a71f38",
   "metadata": {},
   "outputs": [
    {
     "data": {
      "text/plain": [
       "{'bootstrap': False, 'max_features': 6, 'n_estimators': 30}"
      ]
     },
     "execution_count": 40,
     "metadata": {},
     "output_type": "execute_result"
    }
   ],
   "source": [
    "grid_search.best_params_"
   ]
  },
  {
   "cell_type": "markdown",
   "id": "c9f9f046",
   "metadata": {},
   "source": [
    "bootstrap은 false, max_features는 6이고 n_estimators는 30인 조합이 가장 최적이다."
   ]
  },
  {
   "cell_type": "code",
   "execution_count": 41,
   "id": "686fb8e8",
   "metadata": {},
   "outputs": [
    {
     "data": {
      "text/plain": [
       "5849.536862525372"
      ]
     },
     "execution_count": 41,
     "metadata": {},
     "output_type": "execute_result"
    }
   ],
   "source": [
    "final_model = grid_search.best_estimator_\n",
    "final_predictions = final_model.predict(X_test)\n",
    "final_mse = mean_squared_error(y_test, final_predictions)\n",
    "final_rmse = np.sqrt(final_mse)\n",
    "final_rmse"
   ]
  },
  {
   "cell_type": "markdown",
   "id": "ba74d36f",
   "metadata": {},
   "source": [
    "## 5) 결론"
   ]
  },
  {
   "cell_type": "markdown",
   "id": "6d88a250",
   "metadata": {},
   "source": [
    "- 결론: optimal 모형은 random forest regression의 파라미터가 {'max_features': 6, 'n_estimators': 30}인 모형이고, 이 때 rmse 값은 5849.537이다.\n",
    "\n",
    "\n",
    "- 느낀점: 이번 분석을 진행하며, 실제 아파트 거래금액에 대한 데이터를 이용해 EDA 하는 과정에서 흥미로운 인사이트들을 얻을 수 있었다.<br>\n",
    "하지만, 한가지 아쉬운 점은 데이터에서 거래금액이 전세가와 매매가가 섞여 있어 거래금액의 분산이 너무 컸다. <br>\n",
    "따라서, 매매가와 전세가가 구분된 데이터라면 더 성능이 좋은 모형을 만들 수 있었을 것이라 예상한다.\n"
   ]
  }
 ],
 "metadata": {
  "kernelspec": {
   "display_name": "Python 3",
   "language": "python",
   "name": "python3"
  },
  "language_info": {
   "codemirror_mode": {
    "name": "ipython",
    "version": 3
   },
   "file_extension": ".py",
   "mimetype": "text/x-python",
   "name": "python",
   "nbconvert_exporter": "python",
   "pygments_lexer": "ipython3",
   "version": "3.8.8"
  }
 },
 "nbformat": 4,
 "nbformat_minor": 5
}
